{
 "cells": [
  {
   "cell_type": "markdown",
   "metadata": {},
   "source": [
    "# Подготовка анализа для сервиса читателей"
   ]
  },
  {
   "cell_type": "markdown",
   "metadata": {
    "toc": true
   },
   "source": [
    "<h1>Содержание<span class=\"tocSkip\"></span></h1>\n",
    "<div class=\"toc\"><ul class=\"toc-item\"><li><span><a href=\"#Введение\" data-toc-modified-id=\"Введение-1\"><span class=\"toc-item-num\">1&nbsp;&nbsp;</span>Введение</a></span></li><li><span><a href=\"#Цели-работы\" data-toc-modified-id=\"Цели-работы-2\"><span class=\"toc-item-num\">2&nbsp;&nbsp;</span>Цели работы</a></span></li><li><span><a href=\"#Описание-данных\" data-toc-modified-id=\"Описание-данных-3\"><span class=\"toc-item-num\">3&nbsp;&nbsp;</span>Описание данных</a></span></li><li><span><a href=\"#Библиотеки\" data-toc-modified-id=\"Библиотеки-4\"><span class=\"toc-item-num\">4&nbsp;&nbsp;</span>Библиотеки</a></span></li><li><span><a href=\"#Соединение\" data-toc-modified-id=\"Соединение-5\"><span class=\"toc-item-num\">5&nbsp;&nbsp;</span>Соединение</a></span><ul class=\"toc-item\"><li><span><a href=\"#Коннектор.\" data-toc-modified-id=\"Коннектор.-5.1\"><span class=\"toc-item-num\">5.1&nbsp;&nbsp;</span>Коннектор.</a></span></li><li><span><a href=\"#Функции-выгрузки\" data-toc-modified-id=\"Функции-выгрузки-5.2\"><span class=\"toc-item-num\">5.2&nbsp;&nbsp;</span>Функции выгрузки</a></span></li></ul></li><li><span><a href=\"#Задачи\" data-toc-modified-id=\"Задачи-6\"><span class=\"toc-item-num\">6&nbsp;&nbsp;</span>Задачи</a></span><ul class=\"toc-item\"><li><span><a href=\"#Задача-1:-Сколько-книг-вышло-после-1-января-2000-года?\" data-toc-modified-id=\"Задача-1:-Сколько-книг-вышло-после-1-января-2000-года?-6.1\"><span class=\"toc-item-num\">6.1&nbsp;&nbsp;</span>Задача-1: Сколько книг вышло после 1 января 2000 года?</a></span></li><li><span><a href=\"#Задача-2:-Количество-обзоров-для-каждой-книги--и-среднюю-оценку\" data-toc-modified-id=\"Задача-2:-Количество-обзоров-для-каждой-книги--и-среднюю-оценку-6.2\"><span class=\"toc-item-num\">6.2&nbsp;&nbsp;</span>Задача-2: Количество обзоров для каждой книги  и среднюю оценку</a></span></li><li><span><a href=\"#Задача-3:-Определим-издательство,-которое-выпустило-наибольшее-число-книг-толще-50-страниц-—-так-мы-исключим-из-анализа-брошюры;\" data-toc-modified-id=\"Задача-3:-Определим-издательство,-которое-выпустило-наибольшее-число-книг-толще-50-страниц-—-так-мы-исключим-из-анализа-брошюры;-6.3\"><span class=\"toc-item-num\">6.3&nbsp;&nbsp;</span>Задача-3: Определим издательство, которое выпустило наибольшее число книг толще 50 страниц — так мы исключим из анализа брошюры;</a></span></li><li><span><a href=\"#Задача-4:-Автор-с-самой-высокой-средней-оценкой-книг-—-только-книги-с-50-и-более-оценками\" data-toc-modified-id=\"Задача-4:-Автор-с-самой-высокой-средней-оценкой-книг-—-только-книги-с-50-и-более-оценками-6.4\"><span class=\"toc-item-num\">6.4&nbsp;&nbsp;</span>Задача-4: Автор с самой высокой средней оценкой книг — только книги с 50 и более оценками</a></span></li><li><span><a href=\"#Задача-5:-Среднее-количество-обзоров-от-пользователей,-которые-поставили-больше-50-оценок\" data-toc-modified-id=\"Задача-5:-Среднее-количество-обзоров-от-пользователей,-которые-поставили-больше-50-оценок-6.5\"><span class=\"toc-item-num\">6.5&nbsp;&nbsp;</span>Задача-5: Среднее количество обзоров от пользователей, которые поставили больше 50 оценок</a></span></li></ul></li></ul></div>"
   ]
  },
  {
   "cell_type": "markdown",
   "metadata": {},
   "source": [
    "## Введение\n",
    "Принято решение приобрести стартап - сервис для читателей книг по подписке. Мы хотим проанализировать базу данных дабы понять какие имеются специфические паттерны в мире литературных изысков. С базой данных с информацией о книгах, авторах, издательствах и рейтингах мы можем отследить какие могут быть преимущества, которыми нам можно воспользоваться."
   ]
  },
  {
   "cell_type": "markdown",
   "metadata": {},
   "source": [
    "## Цели работы\n",
    "В данной работе мы нацелены достичь следующее:\n",
    "1. Разграничить горизонты нами исследуемых книг - изучим количественные показатели книг вдоль временной прямой:\n",
    "    <br>a. Определим эту временную границу;\n",
    "    <br>b. Нужно ли нам проанализировать все данные, или же достаточно ограничиться теми, что после этого горизонта;\n",
    "2. Определить какие могут быть отдельные популярные и непопулярные жанры, авторы и сами книги, чтобы понять, каким образом должна строиться стратегия достижения ценностного предложения:\n",
    "    <br>a. Определим какие средние оценки у каждой книги, чтобы ответить на вопрос о самой популярной книге;\n",
    "3. Отобразить возможности издательств:\n",
    "    <br>a. Определим границей, при которой ту или иную книгу можем принимать всерьез, то есть исключим объекты с 50 страницами и меньше;\n",
    "    <br>b. Построим график, где будут отображаться издавтельства и количество книг, изданных в них;\n",
    "4. Определить автора с самой высокой оценкой книг, при этом учесть размер того, что мы можем принимать за книгу из предыдущего шага;\n",
    "5. Определим среднее количество обзоров пользователей:\n",
    "    <br>a. Определим границей, при которой того или иного читателя можем принимать всерьез объект с 50 страницами;\n",
    "    <br>b. Построим график, где будут отображаться количество обзоров;"
   ]
  },
  {
   "cell_type": "markdown",
   "metadata": {},
   "source": [
    "## Описание данных"
   ]
  },
  {
   "cell_type": "markdown",
   "metadata": {},
   "source": [
    "**Таблица `books`**\n",
    "\n",
    "Содержит данные о книгах:\n",
    "\n",
    "- `book_id` — идентификатор книги;\n",
    "- `author_id` — идентификатор автора;\n",
    "- `title` — название книги;\n",
    "- `num_pages` — количество страниц;\n",
    "- `publication_date` — дата публикации книги;\n",
    "- `publisher_id` — идентификатор издателя."
   ]
  },
  {
   "cell_type": "markdown",
   "metadata": {},
   "source": [
    "## Библиотеки"
   ]
  },
  {
   "cell_type": "code",
   "execution_count": 1,
   "metadata": {},
   "outputs": [],
   "source": [
    "# импортируем библиотеки\n",
    "import pandas as pd\n",
    "from sqlalchemy import create_engine\n",
    "import seaborn as sns"
   ]
  },
  {
   "cell_type": "markdown",
   "metadata": {},
   "source": [
    "## Соединение\n",
    "### Коннектор."
   ]
  },
  {
   "cell_type": "code",
   "execution_count": 2,
   "metadata": {},
   "outputs": [],
   "source": [
    "# устанавливаем параметры\n",
    "db_config = {'user': 'praktikum_student', # имя пользователя\n",
    " 'pwd': 'Sdf4$2;d-d30pp', # пароль\n",
    " 'host': 'rc1b-wcoijxj3yxfsf3fs.mdb.yandexcloud.net',\n",
    " 'port': 6432, # порт подключения\n",
    " 'db': 'data-analyst-final-project-db'} # название базы данных\n",
    "connection_string = 'postgresql://{}:{}@{}:{}/{}'.format(db_config['user'],\n",
    " db_config['pwd'],\n",
    " db_config['host'],\n",
    " db_config['port'],\n",
    " db_config['db'])\n",
    "# сохраняем коннектор\n",
    "engine = create_engine(connection_string, connect_args={'sslmode':'require'}) "
   ]
  },
  {
   "cell_type": "markdown",
   "metadata": {},
   "source": [
    "### Функции выгрузки"
   ]
  },
  {
   "cell_type": "code",
   "execution_count": 3,
   "metadata": {},
   "outputs": [],
   "source": [
    "def query_window(q):\n",
    "    df = (pd.io.sql.read_sql(q, con = engine))\n",
    "    return df"
   ]
  },
  {
   "cell_type": "markdown",
   "metadata": {},
   "source": [
    "## Задачи\n",
    "### Задача-1: Сколько книг вышло после 1 января 2000 года?"
   ]
  },
  {
   "cell_type": "code",
   "execution_count": 4,
   "metadata": {},
   "outputs": [
    {
     "data": {
      "text/html": [
       "<div>\n",
       "<style scoped>\n",
       "    .dataframe tbody tr th:only-of-type {\n",
       "        vertical-align: middle;\n",
       "    }\n",
       "\n",
       "    .dataframe tbody tr th {\n",
       "        vertical-align: top;\n",
       "    }\n",
       "\n",
       "    .dataframe thead th {\n",
       "        text-align: right;\n",
       "    }\n",
       "</style>\n",
       "<table border=\"1\" class=\"dataframe\">\n",
       "  <thead>\n",
       "    <tr style=\"text-align: right;\">\n",
       "      <th></th>\n",
       "      <th>count</th>\n",
       "    </tr>\n",
       "  </thead>\n",
       "  <tbody>\n",
       "    <tr>\n",
       "      <th>0</th>\n",
       "      <td>819</td>\n",
       "    </tr>\n",
       "  </tbody>\n",
       "</table>\n",
       "</div>"
      ],
      "text/plain": [
       "   count\n",
       "0    819"
      ]
     },
     "execution_count": 4,
     "metadata": {},
     "output_type": "execute_result"
    }
   ],
   "source": [
    "query_window('''\n",
    "\n",
    "SELECT \n",
    "COUNT(DISTINCT(book_id))\n",
    "FROM books\n",
    "WHERE \n",
    "publication_date>'2000-01-01'\n",
    "\n",
    "\n",
    "\n",
    "\n",
    "\n",
    "''')"
   ]
  },
  {
   "cell_type": "markdown",
   "metadata": {},
   "source": [
    "Ответ: В нашей базе данных книг имеется **819** уникальных объектов, изданных после 1 января 2000 года."
   ]
  },
  {
   "cell_type": "markdown",
   "metadata": {},
   "source": [
    "### Задача-2: Количество обзоров для каждой книги  и среднюю оценку"
   ]
  },
  {
   "cell_type": "code",
   "execution_count": 116,
   "metadata": {},
   "outputs": [
    {
     "data": {
      "text/html": [
       "<div>\n",
       "<style scoped>\n",
       "    .dataframe tbody tr th:only-of-type {\n",
       "        vertical-align: middle;\n",
       "    }\n",
       "\n",
       "    .dataframe tbody tr th {\n",
       "        vertical-align: top;\n",
       "    }\n",
       "\n",
       "    .dataframe thead th {\n",
       "        text-align: right;\n",
       "    }\n",
       "</style>\n",
       "<table border=\"1\" class=\"dataframe\">\n",
       "  <thead>\n",
       "    <tr style=\"text-align: right;\">\n",
       "      <th></th>\n",
       "      <th>title_name</th>\n",
       "      <th>average_rating</th>\n",
       "      <th>number_of_reviews</th>\n",
       "    </tr>\n",
       "  </thead>\n",
       "  <tbody>\n",
       "    <tr>\n",
       "      <th>0</th>\n",
       "      <td>Disney's Beauty and the Beast (A Little Golden...</td>\n",
       "      <td>4.000000</td>\n",
       "      <td>NaN</td>\n",
       "    </tr>\n",
       "    <tr>\n",
       "      <th>1</th>\n",
       "      <td>Essential Tales and Poems</td>\n",
       "      <td>4.000000</td>\n",
       "      <td>NaN</td>\n",
       "    </tr>\n",
       "    <tr>\n",
       "      <th>2</th>\n",
       "      <td>Leonardo's Notebooks</td>\n",
       "      <td>4.000000</td>\n",
       "      <td>NaN</td>\n",
       "    </tr>\n",
       "    <tr>\n",
       "      <th>3</th>\n",
       "      <td>The Natural Way to Draw</td>\n",
       "      <td>3.000000</td>\n",
       "      <td>NaN</td>\n",
       "    </tr>\n",
       "    <tr>\n",
       "      <th>4</th>\n",
       "      <td>The Cat in the Hat and Other Dr. Seuss Favorites</td>\n",
       "      <td>5.000000</td>\n",
       "      <td>NaN</td>\n",
       "    </tr>\n",
       "    <tr>\n",
       "      <th>5</th>\n",
       "      <td>Anne Rice's The Vampire Lestat: A Graphic Novel</td>\n",
       "      <td>3.666667</td>\n",
       "      <td>NaN</td>\n",
       "    </tr>\n",
       "    <tr>\n",
       "      <th>6</th>\n",
       "      <td>Twilight (Twilight  #1)</td>\n",
       "      <td>3.662500</td>\n",
       "      <td>7.0</td>\n",
       "    </tr>\n",
       "    <tr>\n",
       "      <th>7</th>\n",
       "      <td>Outlander (Outlander  #1)</td>\n",
       "      <td>4.125000</td>\n",
       "      <td>6.0</td>\n",
       "    </tr>\n",
       "    <tr>\n",
       "      <th>8</th>\n",
       "      <td>The Alchemist</td>\n",
       "      <td>3.789474</td>\n",
       "      <td>6.0</td>\n",
       "    </tr>\n",
       "    <tr>\n",
       "      <th>9</th>\n",
       "      <td>Harry Potter and the Chamber of Secrets (Harry...</td>\n",
       "      <td>4.287500</td>\n",
       "      <td>6.0</td>\n",
       "    </tr>\n",
       "  </tbody>\n",
       "</table>\n",
       "</div>"
      ],
      "text/plain": [
       "                                          title_name  average_rating  \\\n",
       "0  Disney's Beauty and the Beast (A Little Golden...        4.000000   \n",
       "1                          Essential Tales and Poems        4.000000   \n",
       "2                               Leonardo's Notebooks        4.000000   \n",
       "3                            The Natural Way to Draw        3.000000   \n",
       "4   The Cat in the Hat and Other Dr. Seuss Favorites        5.000000   \n",
       "5    Anne Rice's The Vampire Lestat: A Graphic Novel        3.666667   \n",
       "6                            Twilight (Twilight  #1)        3.662500   \n",
       "7                          Outlander (Outlander  #1)        4.125000   \n",
       "8                                      The Alchemist        3.789474   \n",
       "9  Harry Potter and the Chamber of Secrets (Harry...        4.287500   \n",
       "\n",
       "   number_of_reviews  \n",
       "0                NaN  \n",
       "1                NaN  \n",
       "2                NaN  \n",
       "3                NaN  \n",
       "4                NaN  \n",
       "5                NaN  \n",
       "6                7.0  \n",
       "7                6.0  \n",
       "8                6.0  \n",
       "9                6.0  "
      ]
     },
     "execution_count": 116,
     "metadata": {},
     "output_type": "execute_result"
    }
   ],
   "source": [
    "query_window('''\n",
    "SELECT \n",
    "    sub_1.title_name,\n",
    "    sub_2.avg_rat AS average_rating,\n",
    "    sub_3.rev_num AS number_of_reviews\n",
    "FROM \n",
    "    (\n",
    "    SELECT\n",
    "    title AS title_name,\n",
    "    book_id as b_id_s1\n",
    "    FROM books\n",
    "    ) AS sub_1\n",
    "    \n",
    "    LEFT JOIN \n",
    "    \n",
    "    (\n",
    "    SELECT\n",
    "        DISTINCT(book_id) AS b_id_s2,\n",
    "        AVG(rating) AS avg_rat\n",
    "    FROM\n",
    "        ratings\n",
    "    GROUP BY b_id_s2\n",
    "    )\n",
    "    AS sub_2 ON sub_1.b_id_s1 = sub_2.b_id_s2\n",
    "    LEFT JOIN\n",
    "    (\n",
    "    SELECT \n",
    "    DISTINCT(book_id) AS b_id_s3,\n",
    "    COUNT(DISTINCT(review_id)) AS rev_num\n",
    "    FROM reviews\n",
    "    GROUP BY b_id_s3\n",
    "    \n",
    "    ) AS sub_3 ON sub_1.b_id_s1 = sub_3.b_id_s3\n",
    "    ORDER BY number_of_reviews DESC\n",
    "    LIMIT 10\n",
    "    \n",
    "''')"
   ]
  },
  {
   "cell_type": "markdown",
   "metadata": {},
   "source": [
    "Да, чем больше отзывов, тем более вероятно, что у книги будет высокая оценка."
   ]
  },
  {
   "cell_type": "markdown",
   "metadata": {},
   "source": [
    "### Задача-3: Определим издательство, которое выпустило наибольшее число книг толще 50 страниц — так мы исключим из анализа брошюры;"
   ]
  },
  {
   "cell_type": "code",
   "execution_count": 67,
   "metadata": {},
   "outputs": [
    {
     "data": {
      "text/html": [
       "<div>\n",
       "<style scoped>\n",
       "    .dataframe tbody tr th:only-of-type {\n",
       "        vertical-align: middle;\n",
       "    }\n",
       "\n",
       "    .dataframe tbody tr th {\n",
       "        vertical-align: top;\n",
       "    }\n",
       "\n",
       "    .dataframe thead th {\n",
       "        text-align: right;\n",
       "    }\n",
       "</style>\n",
       "<table border=\"1\" class=\"dataframe\">\n",
       "  <thead>\n",
       "    <tr style=\"text-align: right;\">\n",
       "      <th></th>\n",
       "      <th>pub_name</th>\n",
       "      <th>max</th>\n",
       "    </tr>\n",
       "  </thead>\n",
       "  <tbody>\n",
       "    <tr>\n",
       "      <th>0</th>\n",
       "      <td>Penguin Books</td>\n",
       "      <td>42.0</td>\n",
       "    </tr>\n",
       "  </tbody>\n",
       "</table>\n",
       "</div>"
      ],
      "text/plain": [
       "        pub_name   max\n",
       "0  Penguin Books  42.0"
      ]
     },
     "execution_count": 67,
     "metadata": {},
     "output_type": "execute_result"
    }
   ],
   "source": [
    "query_window('''\n",
    "\n",
    "SELECT\n",
    "    DISTINCT(publishers.publisher) AS pub_name,\n",
    "    max\n",
    "FROM\n",
    "    (SELECT \n",
    "        p_id,\n",
    "        MAX(sum)\n",
    "    FROM (\n",
    "            SELECT \n",
    "                DISTINCT(publisher_id) AS p_id,\n",
    "                SUM(num_1) as sum\n",
    "            FROM (\n",
    "                    SELECT \n",
    "                    DISTINCT(publisher_id),\n",
    "                    COUNT(DISTINCT(book_id)) AS num_1\n",
    "                    FROM books\n",
    "                    WHERE num_pages>50\n",
    "                    GROUP BY publisher_id) AS sub_0\n",
    "\n",
    "\n",
    "            GROUP BY num_1, publisher_id) AS sub_1\n",
    "    GROUP BY p_id\n",
    "    ORDER BY max DESC\n",
    "    LIMIT 1 ) AS sub_2 LEFT JOIN publishers ON publishers.publisher_id = sub_2.p_id\n",
    "GROUP BY pub_name, p_id, max\n",
    "\n",
    "''')"
   ]
  },
  {
   "cell_type": "markdown",
   "metadata": {},
   "source": []
  },
  {
   "cell_type": "markdown",
   "metadata": {},
   "source": [
    "### Задача-4: Автор с самой высокой средней оценкой книг — только книги с 50 и более оценками"
   ]
  },
  {
   "cell_type": "code",
   "execution_count": 146,
   "metadata": {},
   "outputs": [
    {
     "data": {
      "text/html": [
       "<div>\n",
       "<style scoped>\n",
       "    .dataframe tbody tr th:only-of-type {\n",
       "        vertical-align: middle;\n",
       "    }\n",
       "\n",
       "    .dataframe tbody tr th {\n",
       "        vertical-align: top;\n",
       "    }\n",
       "\n",
       "    .dataframe thead th {\n",
       "        text-align: right;\n",
       "    }\n",
       "</style>\n",
       "<table border=\"1\" class=\"dataframe\">\n",
       "  <thead>\n",
       "    <tr style=\"text-align: right;\">\n",
       "      <th></th>\n",
       "      <th>author</th>\n",
       "      <th>average_rating</th>\n",
       "      <th>count</th>\n",
       "    </tr>\n",
       "  </thead>\n",
       "  <tbody>\n",
       "    <tr>\n",
       "      <th>0</th>\n",
       "      <td>J.K. Rowling/Mary GrandPré</td>\n",
       "      <td>4.414634</td>\n",
       "      <td>82</td>\n",
       "    </tr>\n",
       "  </tbody>\n",
       "</table>\n",
       "</div>"
      ],
      "text/plain": [
       "                       author  average_rating  count\n",
       "0  J.K. Rowling/Mary GrandPré        4.414634     82"
      ]
     },
     "execution_count": 146,
     "metadata": {},
     "output_type": "execute_result"
    }
   ],
   "source": [
    "query_window('''\n",
    "SELECT\n",
    "    authors.author,\n",
    "    sub_2.average_rating,\n",
    "    sub_1.count\n",
    "FROM \n",
    "    (\n",
    "    SELECT\n",
    "        sub_0.book_id,\n",
    "        books.author_id,\n",
    "        sub_0.count\n",
    "    FROM\n",
    "        (\n",
    "        SELECT\n",
    "            DISTINCT(book_id),\n",
    "            COUNT(DISTINCT(rating_id))\n",
    "        FROM ratings\n",
    "        GROUP BY book_id\n",
    "        ) AS sub_0 \n",
    "        LEFT JOIN books ON books.book_id=sub_0.book_id\n",
    "    WHERE count>50\n",
    "    \n",
    "    ) AS sub_1 LEFT JOIN authors ON authors.author_id = sub_1.author_id\n",
    "    \n",
    "    LEFT JOIN \n",
    "    \n",
    "    (\n",
    "    SELECT\n",
    "    DISTINCT(book_id),\n",
    "    AVG(rating) AS average_rating\n",
    "    FROM ratings\n",
    "    GROUP BY book_id\n",
    "    ) AS sub_2 ON sub_2.book_id = sub_1.book_id\n",
    "ORDER BY average_rating DESC\n",
    "LIMIT 1\n",
    "\n",
    "\n",
    "''')"
   ]
  },
  {
   "cell_type": "markdown",
   "metadata": {},
   "source": [
    "Дж.К.Роулинг, Гарри Поттер - лучшая книга всех времен (так судят наши критики и пользователи)."
   ]
  },
  {
   "cell_type": "markdown",
   "metadata": {},
   "source": [
    "### Задача-5: Среднее количество обзоров от пользователей, которые поставили больше 50 оценок"
   ]
  },
  {
   "cell_type": "code",
   "execution_count": 100,
   "metadata": {},
   "outputs": [
    {
     "data": {
      "text/html": [
       "<div>\n",
       "<style scoped>\n",
       "    .dataframe tbody tr th:only-of-type {\n",
       "        vertical-align: middle;\n",
       "    }\n",
       "\n",
       "    .dataframe tbody tr th {\n",
       "        vertical-align: top;\n",
       "    }\n",
       "\n",
       "    .dataframe thead th {\n",
       "        text-align: right;\n",
       "    }\n",
       "</style>\n",
       "<table border=\"1\" class=\"dataframe\">\n",
       "  <thead>\n",
       "    <tr style=\"text-align: right;\">\n",
       "      <th></th>\n",
       "      <th>user_name</th>\n",
       "      <th>num_rating</th>\n",
       "      <th>review_numbers</th>\n",
       "    </tr>\n",
       "  </thead>\n",
       "  <tbody>\n",
       "    <tr>\n",
       "      <th>0</th>\n",
       "      <td>jennifermiller</td>\n",
       "      <td>53</td>\n",
       "      <td>25.0</td>\n",
       "    </tr>\n",
       "    <tr>\n",
       "      <th>1</th>\n",
       "      <td>martinadam</td>\n",
       "      <td>56</td>\n",
       "      <td>27.0</td>\n",
       "    </tr>\n",
       "    <tr>\n",
       "      <th>2</th>\n",
       "      <td>paul88</td>\n",
       "      <td>56</td>\n",
       "      <td>22.0</td>\n",
       "    </tr>\n",
       "    <tr>\n",
       "      <th>3</th>\n",
       "      <td>richard89</td>\n",
       "      <td>55</td>\n",
       "      <td>26.0</td>\n",
       "    </tr>\n",
       "    <tr>\n",
       "      <th>4</th>\n",
       "      <td>sfitzgerald</td>\n",
       "      <td>55</td>\n",
       "      <td>28.0</td>\n",
       "    </tr>\n",
       "    <tr>\n",
       "      <th>5</th>\n",
       "      <td>xdavis</td>\n",
       "      <td>51</td>\n",
       "      <td>18.0</td>\n",
       "    </tr>\n",
       "  </tbody>\n",
       "</table>\n",
       "</div>"
      ],
      "text/plain": [
       "        user_name  num_rating  review_numbers\n",
       "0  jennifermiller          53            25.0\n",
       "1      martinadam          56            27.0\n",
       "2          paul88          56            22.0\n",
       "3       richard89          55            26.0\n",
       "4     sfitzgerald          55            28.0\n",
       "5          xdavis          51            18.0"
      ]
     },
     "execution_count": 100,
     "metadata": {},
     "output_type": "execute_result"
    }
   ],
   "source": [
    "query_window('''\n",
    "SELECT\n",
    "    sub_2.user_name,\n",
    "    sub_2.num_rating,\n",
    "    sub_3.review_numbers\n",
    "FROM \n",
    "    (\n",
    "    SELECT\n",
    "        user_name,\n",
    "        num_rating\n",
    "    FROM \n",
    "        (\n",
    "        SELECT\n",
    "            user_name,\n",
    "            num_rating\n",
    "        FROM\n",
    "                (\n",
    "                SELECT \n",
    "                    DISTINCT(username) AS user_name,\n",
    "                    COUNT(DISTINCT(rating_id)) AS num_rating\n",
    "                FROM ratings\n",
    "                GROUP BY username\n",
    "                )\n",
    "                AS sub_0\n",
    "        WHERE sub_0.num_rating>50\n",
    "        ) AS sub_1\n",
    "        ) AS sub_2\n",
    "    \n",
    "    LEFT JOIN \n",
    "    \n",
    "        (\n",
    "    SELECT\n",
    "        username,\n",
    "        AVG(rev_num) AS review_numbers\n",
    "    FROM \n",
    "        (\n",
    "                SELECT\n",
    "                username,\n",
    "                COUNT(DISTINCT(review_id)) AS rev_num\n",
    "                FROM reviews\n",
    "                GROUP BY username\n",
    "                ) AS sub_00\n",
    "            GROUP BY username\n",
    "        ) AS sub_3 ON sub_3.username = sub_2.user_name\n",
    "''')"
   ]
  },
  {
   "cell_type": "markdown",
   "metadata": {},
   "source": [
    "А вот и наши самые активные пользователи, со своими показателями активности."
   ]
  }
 ],
 "metadata": {
  "kernelspec": {
   "display_name": "Python 3",
   "language": "python",
   "name": "python3"
  },
  "language_info": {
   "codemirror_mode": {
    "name": "ipython",
    "version": 3
   },
   "file_extension": ".py",
   "mimetype": "text/x-python",
   "name": "python",
   "nbconvert_exporter": "python",
   "pygments_lexer": "ipython3",
   "version": "3.7.6"
  },
  "toc": {
   "base_numbering": 1,
   "nav_menu": {},
   "number_sections": true,
   "sideBar": true,
   "skip_h1_title": true,
   "title_cell": "Содержание",
   "title_sidebar": "Содержание",
   "toc_cell": true,
   "toc_position": {
    "height": "calc(100% - 180px)",
    "left": "10px",
    "top": "150px",
    "width": "341.333px"
   },
   "toc_section_display": true,
   "toc_window_display": true
  }
 },
 "nbformat": 4,
 "nbformat_minor": 4
}
